{
 "cells": [
  {
   "cell_type": "code",
   "execution_count": 58,
   "metadata": {},
   "outputs": [],
   "source": [
    "import csv\n",
    "import sys\n",
    "import glob\n",
    "import numpy as np\n",
    "import scipy as sp\n",
    "import scipy.stats"
   ]
  },
  {
   "cell_type": "code",
   "execution_count": 3,
   "metadata": {},
   "outputs": [],
   "source": [
    "def cata_editor(starting_cat,bad_cats):\n",
    "    all_sources = []\n",
    "    bad_sources = []\n",
    "    \n",
    "    alpha = csv.reader(open(starting_cat))\n",
    "    \n",
    "    for row in alpha:\n",
    "        all_sources.append(row)\n",
    "    \n",
    "    for beta in bad_cats:\n",
    "        gamma = csv.reader(open(beta))\n",
    "        \n",
    "        for row in gamma:\n",
    "            bad_sources.append(row)\n",
    "    \n",
    "    all_sources = set(tuple(i) for i in all_sources)\n",
    "    bad_sources = set(tuple(i) for i in bad_sources)\n",
    "    good_sources = all_sources.difference(bad_sources)\n",
    "    \n",
    "    all_cat = list(map(list,all_sources))\n",
    "    bad_cat = list(map(list,bad_sources))\n",
    "    good_cat = list(map(list,good_sources))\n",
    "    \n",
    "    \n",
    "    return good_cat, bad_cat, all_cat"
   ]
  },
  {
   "cell_type": "code",
   "execution_count": 4,
   "metadata": {},
   "outputs": [],
   "source": [
    "def create_reg(data,name):\n",
    "    with open(name, 'w', newline='') as csvfile:\n",
    "        file = csv.writer(csvfile, delimiter=',', quotechar=' ', quoting=csv.QUOTE_ALL)\n",
    "        for x in range(len(data)):\n",
    "            file.writerow([data[x][0] , data[x][1]])"
   ]
  },
  {
   "cell_type": "code",
   "execution_count": 43,
   "metadata": {},
   "outputs": [],
   "source": [
    "non0 = glob.glob('DATA_CATALOGS/23_00431/23_00431_non0_fk5.reg')\n",
    "zero, non_zero, allc = cata_editor('DATA_CATALOGS/23_00431/23_00431_all_fk5.reg',non0)\n",
    "create_reg(zero,'DATA_CATALOGS/23_00431/23_00431_0_fk5.reg')"
   ]
  },
  {
   "cell_type": "code",
   "execution_count": 18,
   "metadata": {},
   "outputs": [],
   "source": [
    "zero, non_zero, allc = cata_editor('DATA_CATALOGS/16_00256/16_00256_all_fk5.reg',non0)"
   ]
  },
  {
   "cell_type": "code",
   "execution_count": 20,
   "metadata": {},
   "outputs": [],
   "source": [
    "create_reg(zero,'DATA_CATALOGS/16_00256/16_00256_0_fk5.reg')"
   ]
  },
  {
   "cell_type": "code",
   "execution_count": 7,
   "metadata": {},
   "outputs": [],
   "source": [
    "create_reg(bad,'16_00171_bad_xy.reg')"
   ]
  },
  {
   "cell_type": "code",
   "execution_count": 8,
   "metadata": {},
   "outputs": [
    {
     "name": "stdout",
     "output_type": "stream",
     "text": [
      "12013\n",
      "69605\n",
      "81618\n"
     ]
    }
   ],
   "source": [
    "print(len(good))\n",
    "print(len(bad))\n",
    "print(len(allc))"
   ]
  },
  {
   "cell_type": "code",
   "execution_count": 80,
   "metadata": {},
   "outputs": [],
   "source": [
    "out = cata_editor('test.fits',[])"
   ]
  },
  {
   "cell_type": "code",
   "execution_count": 82,
   "metadata": {},
   "outputs": [
    {
     "data": {
      "text/plain": [
       "50333"
      ]
     },
     "execution_count": 82,
     "metadata": {},
     "output_type": "execute_result"
    }
   ],
   "source": [
    "len(out[0])"
   ]
  },
  {
   "cell_type": "code",
   "execution_count": 69,
   "metadata": {},
   "outputs": [],
   "source": [
    "ks_sources = [54171,60841,56271,61037]\n",
    "j_sources = [81621,84002,84991,101232]\n",
    "z1_sources = [147620,149407,154943,161209]\n",
    "z2_sources = [119376,114162,85841,117920]\n",
    "z_sources = np.concatenate((z1_sources,z2_sources))\n",
    "h_sources = [67411,74324,69466,73591]\n",
    "y1_sources = [110101,109921,112150]\n",
    "y2_sources = [108626,98900,92916,104445]\n",
    "y_sources = np.concatenate((y1_sources,y2_sources))\n",
    "all_sources = np.concatenate((ks_sources,j_sources,z_sources,h_sources,y_sources))"
   ]
  },
  {
   "cell_type": "code",
   "execution_count": 70,
   "metadata": {},
   "outputs": [],
   "source": [
    "ks_per0 = [0.030182200808551,0.032083627816768,0.027029908834035,0.036354997788227]\n",
    "j_per0 = [0.14719251173105,0.124294659650961,0.114376816368792,0.149241346609768]\n",
    "z1_per0 = [0.158853813846362,0.154932499815939,0.14322041008629,0.152069673529394]\n",
    "z2_per0 = [0.310665460394049,0.301816716595715,0.25942148856607,0.339297829036635]\n",
    "z_per0 = np.concatenate((z1_per0,z2_per0))\n",
    "h_per0 = [0.033970716945306,0.036932888434422,0.021204618086546,0.031770189289451]\n",
    "y1_per0 = [0.138009645688958,0.125926801975965,0.13431119037004]\n",
    "y2_per0 = [0.320125936700237,0.281294236602629,0.273591200654354,0.311924936569486]\n",
    "y_per0 = np.concatenate((y1_per0,y2_per0))\n",
    "all_per0 = np.concatenate((ks_per0,j_per0,z_per0,h_per0,y_per0))"
   ]
  },
  {
   "cell_type": "code",
   "execution_count": 75,
   "metadata": {},
   "outputs": [
    {
     "name": "stdout",
     "output_type": "stream",
     "text": [
      "Ks: 0.0508720041750155\n",
      "J: 0.08820928355088803\n",
      "Z1: 0.034621497295171236\n",
      "Z2: 0.1252338561925835\n",
      "Z: 0.1851616657054461\n",
      "H: 0.040243949674242815\n",
      "Y1: 0.009130887680018344\n",
      "Y2: 0.05836071676776864\n",
      "Y: 0.06190818927388078\n",
      "\n",
      "Total: 0.30447834809403096\n"
     ]
    }
   ],
   "source": [
    "print('Ks:',np.std(ks_sources)/np.mean(ks_sources))\n",
    "print('J:',np.std(j_sources)/np.mean(j_sources))\n",
    "print('Z1:',np.std(z1_sources)/np.mean(z1_sources))\n",
    "print('Z2:',np.std(z2_sources)/np.mean(z2_sources))\n",
    "print('Z:',np.std(z_sources)/np.mean(z_sources))\n",
    "print('H:',np.std(h_sources)/np.mean(h_sources))\n",
    "print('Y1:',np.std(y1_sources)/np.mean(y1_sources))\n",
    "print('Y2:',np.std(y2_sources)/np.mean(y2_sources))\n",
    "print('Y:',np.std(y_sources)/np.mean(y_sources))\n",
    "print('')\n",
    "print('Total:',np.std(all_sources)/np.mean(all_sources))"
   ]
  },
  {
   "cell_type": "code",
   "execution_count": 76,
   "metadata": {},
   "outputs": [
    {
     "name": "stdout",
     "output_type": "stream",
     "text": [
      "Ks: 0.10748421960722343\n",
      "J: 0.11121450261379556\n",
      "Z1: 0.0377793240271566\n",
      "Z2: 0.09452062317817238\n",
      "Z: 0.3430030750024828\n",
      "H: 0.19141253602587935\n",
      "Y1: 0.038078860556992514\n",
      "Y2: 0.06638005749150977\n",
      "Y: 0.36463108611650175\n",
      "\n",
      "Total: 0.6789931294544208\n"
     ]
    }
   ],
   "source": [
    "print('Ks:',np.std(ks_per0)/np.mean(ks_per0))\n",
    "print('J:',np.std(j_per0)/np.mean(j_per0))\n",
    "print('Z1:',np.std(z1_per0)/np.mean(z1_per0))\n",
    "print('Z2:',np.std(z2_per0)/np.mean(z2_per0))\n",
    "print('Z:',np.std(z_per0)/np.mean(z_per0))\n",
    "print('H:',np.std(h_per0)/np.mean(h_per0))\n",
    "print('Y1:',np.std(y1_per0)/np.mean(y1_per0))\n",
    "print('Y2:',np.std(y2_per0)/np.mean(y2_per0))\n",
    "print('Y:',np.std(y_per0)/np.mean(y_per0))\n",
    "print('')\n",
    "print('Total:',np.std(all_per0)/np.mean(all_per0))"
   ]
  },
  {
   "cell_type": "code",
   "execution_count": 59,
   "metadata": {},
   "outputs": [
    {
     "data": {
      "text/plain": [
       "0.0508720041750155"
      ]
     },
     "execution_count": 59,
     "metadata": {},
     "output_type": "execute_result"
    }
   ],
   "source": [
    "sp.stats.variation(ks_sources)"
   ]
  }
 ],
 "metadata": {
  "kernelspec": {
   "display_name": "Python 3",
   "language": "python",
   "name": "python3"
  },
  "language_info": {
   "codemirror_mode": {
    "name": "ipython",
    "version": 3
   },
   "file_extension": ".py",
   "mimetype": "text/x-python",
   "name": "python",
   "nbconvert_exporter": "python",
   "pygments_lexer": "ipython3",
   "version": "3.6.5"
  }
 },
 "nbformat": 4,
 "nbformat_minor": 2
}
